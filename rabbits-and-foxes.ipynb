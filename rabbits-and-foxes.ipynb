{
 "cells": [
  {
   "cell_type": "markdown",
   "metadata": {},
   "source": [
    "# Rabbits and foxes\n",
    "\n",
    "There are initially 400 rabbits and 200 foxes on a farm (but it could be two cell types in a 96 well plate or something, if you prefer bio-engineering analogies). Plot the concentration of foxes and rabbits as a function of time for a period of up to 600 days. The predator-prey relationships are given by the following set of coupled ordinary differential equations:\n",
    "\n",
    "\\begin{align}\n",
    "\\frac{dR}{dt} &= k_1 R - k_2 R F \\tag{1}\\\\\n",
    "\\frac{dF}{dt} &= k_3 R F - k_4 F \\tag{2}\\\\\n",
    "\\end{align}\n",
    "\n",
    "* Constant for growth of rabbits $k_1 = 0.015$ day<sup>-1</sup>\n",
    "* Constant for death of rabbits being eaten by foxes $k_2 = 0.00004$ day<sup>-1</sup> foxes<sup>-1</sup>\n",
    "* Constant for growth of foxes after eating rabbits $k_3 = 0.0004$ day<sup>-1</sup> rabbits<sup>-1</sup>\n",
    "* Constant for death of foxes $k_4 = 0.04$ day<sup>-1</sup>\n",
    "\n",
    "Also plot the number of foxes versus the number of rabbits.\n",
    "\n",
    "Then try also with \n",
    "* $k_3 = 0.00004$ day<sup>-1</sup> rabbits<sup>-1</sup>\n",
    "* $t_{final} = 800$ days\n",
    "\n",
    "*This problem is based on one from Chapter 1 of H. Scott Fogler's textbook \"Essentials of Chemical Reaction Engineering\".*\n"
   ]
  },
  {
   "cell_type": "markdown",
   "metadata": {
    "collapsed": true
   },
   "source": [
    "# Solving ODEs\n",
    "\n",
    "*Much of the following content reused under Creative Commons Attribution license CC-BY 4.0, code under MIT license (c)2014 L.A. Barba, G.F. Forsyth. Partly based on David Ketcheson's pendulum lesson, also under CC-BY. https://github.com/numerical-mooc/numerical-mooc*\n",
    "\n",
    "Let's step back for a moment. Suppose we have a first-order ODE $u'=f(u)$. You know that if we were to integrate this, there would be an arbitrary constant of integration. To find its value, we do need to know one point on the curve $(t, u)$. When the derivative in the ODE is with respect to time, we call that point the _initial value_ and write something like this:\n",
    "\n",
    "$$u(t=0)=u_0$$\n",
    "\n",
    "In the case of a second-order ODE, we already saw how to write it as a system of first-order ODEs, and we would need an initial value for each equation: two conditions are needed to determine our constants of integration. The same applies for higher-order ODEs: if it is of order $n$, we can write it as $n$ first-order equations, and we need $n$ known values. If we have that data, we call the problem an _initial value problem_.\n",
    "\n",
    "Remember the definition of a derivative? The derivative represents the slope of the tangent at a point of the curve $u=u(t)$, and the definition of the derivative $u'$ for a function is:\n",
    "\n",
    "$$u'(t) = \\lim_{\\Delta t\\rightarrow 0} \\frac{u(t+\\Delta t)-u(t)}{\\Delta t}$$\n",
    "\n",
    "If the step $\\Delta t$ is already very small, we can _approximate_ the derivative by dropping the limit. We can write:\n",
    "\n",
    "$$\\begin{equation}\n",
    "u(t+\\Delta t) \\approx u(t) + u'(t) \\Delta t\n",
    "\\end{equation}$$\n",
    "\n",
    "With this equation, and because we know $u'(t)=f(u)$, if we have an initial value, we can step by $\\Delta t$ and find the value of $u(t+\\Delta t)$, then we can take this value, and find $u(t+2\\Delta t)$, and so on: we say that we _step in time_, numerically finding the solution $u(t)$ for a range of values: $t_1, t_2, t_3 \\cdots$, each separated by $\\Delta t$. The numerical solution of the ODE is simply the table of values $t_i, u_i$ that results from this process.\n"
   ]
  },
  {
   "cell_type": "markdown",
   "metadata": {},
   "source": [
    "# Euler's method\n",
    "*Also known as \"Simple Euler\" or sometimes \"Simple Error\".*\n",
    "\n",
    "The approximate solution at time $t_n$ is $u_n$, and the numerical solution of the differential equation consists of computing a sequence of approximate solutions by the following formula, based on Equation (10):\n",
    "\n",
    "$$u_{n+1} = u_n + \\Delta t \\,f(u_n).$$\n",
    "\n",
    "This formula is called **Euler's method**.\n",
    "\n",
    "For the equations of the rabbits and foxes, Euler's method gives the following algorithm that we need to implement in code:\n",
    "\n",
    "\\begin{align}\n",
    "R_{n+1} & = R_n + \\Delta t \\left(k_1 R_n - k_2 R_n F_n \\right) \\\\\n",
    "F_{n+1} & = F_n + \\Delta t \\left( k_3 R_n F_n - k_4 F_n \\right).\n",
    "\\end{align}\n"
   ]
  },
  {
   "cell_type": "code",
   "execution_count": null,
   "metadata": {
    "collapsed": true
   },
   "outputs": [],
   "source": [
    "%matplotlib inline\n",
    "import numpy as np\n",
    "from matplotlib import pyplot as plt"
   ]
  },
  {
   "cell_type": "code",
   "execution_count": null,
   "metadata": {
    "collapsed": false
   },
   "outputs": [],
   "source": [
    "#accompanying Euler's method code attributed to Prof. West - thank you!\n",
    "k1 = 0.015\n",
    "k2 = 0.00004\n",
    "k3 = 0.0004\n",
    "k4 = 0.04\n",
    "end_time = 600.\n",
    "step_size = 1.\n",
    "times = np.arange(0, end_time, step_size)\n",
    "rabbits = np.zeros_like(times)\n",
    "foxes = np.zeros_like(times)\n",
    "rabbits[0] = 400.\n",
    "foxes[0] = 200.\n",
    "for n in range(len(times)-1):\n",
    "    delta_t = times[n+1] - times[n]\n",
    "    rabbits[n+1] = rabbits[n] + delta_t * (k1 * rabbits[n] - k2 * rabbits[n] * foxes[n])\n",
    "    foxes[n+1] = foxes[n] + delta_t * (k3 * rabbits[n] * foxes[n] - k4 * foxes[n])"
   ]
  },
  {
   "cell_type": "code",
   "execution_count": null,
   "metadata": {
    "collapsed": false
   },
   "outputs": [],
   "source": [
    "plt.plot(times, rabbits, label='rabbits')\n",
    "plt.plot(times, foxes, label='foxes')\n",
    "plt.legend(loc=\"best\") # put the legend at the best location to avoid overlapping things\n",
    "plt.show()"
   ]
  },
  {
   "cell_type": "code",
   "execution_count": null,
   "metadata": {
    "collapsed": false
   },
   "outputs": [],
   "source": [
    "#choosing different step sizes\n",
    "k1 = 0.015\n",
    "k2 = 0.00004\n",
    "k3 = 0.0004\n",
    "k4 = 0.04\n",
    "def solve_by_euler(step_size = 1.):\n",
    "    \"\"\"\n",
    "    Evaluate by simple Euler, with the given step size.\n",
    "    \n",
    "    Returns the peak number of foxes.\n",
    "    \"\"\"\n",
    "    end_time = 600.\n",
    "    times = np.arange(0, end_time, step_size)\n",
    "    rabbits = np.zeros_like(times)\n",
    "    foxes = np.zeros_like(times)\n",
    "    rabbits[0] = 400\n",
    "    foxes[0] = 200\n",
    "    for n in range(len(times)-1):\n",
    "        delta_t = times[n+1] - times[n]\n",
    "        rabbits[n+1] = rabbits[n] + delta_t * (k1 * rabbits[n] - k2 * rabbits[n] * foxes[n])\n",
    "        foxes[n+1] = foxes[n] + delta_t * (k3 * rabbits[n] * foxes[n] - k4 * foxes[n])\n",
    "    return foxes.max()\n",
    "\n",
    "step_sizes = []\n",
    "maximums = []\n",
    "for i in range(20):\n",
    "    print(i)\n",
    "    step_size = 10**(1-i/5)\n",
    "    print(\"step size\",step_size)\n",
    "    maximum = solve_by_euler(step_size)\n",
    "    print(\"max foxes\",maximum)\n",
    "    step_sizes.append(step_size)\n",
    "    maximums.append(maximum)"
   ]
  },
  {
   "cell_type": "code",
   "execution_count": null,
   "metadata": {
    "collapsed": false
   },
   "outputs": [],
   "source": [
    "plt.semilogx(step_sizes, maximums, 'kd-')\n",
    "plt.ylabel(\"Maximum number of foxes in 600 days\")\n",
    "plt.xlabel(\"Step size for Euler method (days)\")\n",
    "plt.show()"
   ]
  },
  {
   "cell_type": "code",
   "execution_count": null,
   "metadata": {
    "collapsed": false
   },
   "outputs": [],
   "source": [
    "maximums = np.array(maximums)\n",
    "errors = maximums - maximums[-1] # calculate error relative to the last value"
   ]
  },
  {
   "cell_type": "code",
   "execution_count": null,
   "metadata": {
    "collapsed": false,
    "scrolled": true
   },
   "outputs": [],
   "source": [
    "# plot all but the last point, because log(0.0) will cause problems scaling the axes\n",
    "plt.loglog(step_sizes[:-1], errors[:-1], 'ko-')\n",
    "\n",
    "plt.axis('equal') # scale the axes to make a square a square\n",
    "plt.grid(True) # turn on the grid lines\n",
    "plt.xlabel(\"$\\Delta t$\", fontsize=16)\n",
    "plt.ylabel(\"Error\", fontsize=16)\n",
    "plt.show()"
   ]
  },
  {
   "cell_type": "markdown",
   "metadata": {},
   "source": [
    "The straight line slope of 1 shows that Simple Euler is a first order algorithm. \n",
    "We only get below an error of $10^0$ (1.0) in this quantity of interest with the second smallest step size, $\\sim$0.002.\n",
    "The Euler method is not very good - it requires tiny steps and converges slowly. You might have heard of (and might like to try) some [Ruge-Kutta](https://en.wikipedia.org/wiki/Runge–Kutta_methods) methods. If you do, first set up the right hand side of the ODE as a function, because you'll need to call it repeatedly within a single iteration."
   ]
  },
  {
   "cell_type": "markdown",
   "metadata": {},
   "source": [
    "# ODEInt Method"
   ]
  },
  {
   "cell_type": "code",
   "execution_count": null,
   "metadata": {
    "collapsed": false
   },
   "outputs": [],
   "source": [
    "#using ODEint to perform integration methods on ordinary differential equations\n",
    "from scipy.integrate import odeint\n",
    "\n",
    "times = np.linspace(0.,600, 600)\n",
    "RandF = [400.,200.]\n",
    "\n",
    "def solve_by_ODE(RandF,t,k1,k2,k3,k4):\n",
    "    R, F = RandF\n",
    "    dRdt = k1*R - k2*R*F\n",
    "    dFdt = k3*R*F - k4*F\n",
    "    return [dRdt, dFdt]\n"
   ]
  },
  {
   "cell_type": "code",
   "execution_count": null,
   "metadata": {
    "collapsed": true
   },
   "outputs": [],
   "source": [
    "solution = odeint(solve_by_ODE, RandF, times, args=(k1,k2,k3,k4))\n",
    "rabbitsODE = solution[:,0]\n",
    "foxesODE = solution[:,1]"
   ]
  },
  {
   "cell_type": "code",
   "execution_count": null,
   "metadata": {
    "collapsed": false
   },
   "outputs": [],
   "source": [
    "plt.plot(times, rabbitsODE, label='Rabbits')\n",
    "plt.plot(times, foxesODE, label='Foxes')\n",
    "plt.legend(loc='best')\n",
    "plt.show()\n"
   ]
  },
  {
   "cell_type": "code",
   "execution_count": null,
   "metadata": {
    "collapsed": false
   },
   "outputs": [],
   "source": [
    "from scipy.signal import argrelextrema\n",
    "peaks = argrelextrema(solution,np.greater, order=20)\n",
    "print(peaks[0])"
   ]
  },
  {
   "cell_type": "code",
   "execution_count": null,
   "metadata": {
    "collapsed": false
   },
   "outputs": [],
   "source": [
    "fox1 = round(solution[peaks[0][1],1],0)\n",
    "fox2 = round(solution[peaks[0][3],1],0)\n",
    "time1 = round(times[peaks[0][1]],2)\n",
    "time2 = round(times[peaks[0][3]],2)\n"
   ]
  },
  {
   "cell_type": "code",
   "execution_count": null,
   "metadata": {
    "collapsed": false
   },
   "outputs": [],
   "source": [
    "print(\"The foxes first peak at\", fox1, \"foxes at\", time1, \"days\")\n",
    "print(\"The foxes peak secondarily at\", fox2, \"foxes at\", time2, \"days\")"
   ]
  },
  {
   "cell_type": "markdown",
   "metadata": {
    "collapsed": true
   },
   "source": [
    "# KMC Method"
   ]
  },
  {
   "cell_type": "code",
   "execution_count": null,
   "metadata": {
    "collapsed": false
   },
   "outputs": [],
   "source": [
    "solution_KMC = np.zeros((3,3))\n",
    "print(solution_KMC)\n",
    "solution = np.append(solution_KMC,[[5,5,5]],axis=0)\n",
    "print(solution)"
   ]
  },
  {
   "cell_type": "code",
   "execution_count": null,
   "metadata": {
    "collapsed": false
   },
   "outputs": [],
   "source": [
    "import random\n",
    "\n",
    "R_0 = 400.\n",
    "F_0 = 200.\n",
    "end = 600. #days\n",
    "\n",
    "def solve_by_KMC(R_0,F_0, end):\n",
    "    R = R_0\n",
    "    F = F_0\n",
    "    time = 0\n",
    "    solution_KMC = np.zeros((1,3))\n",
    "    solution_KMC[0] = 0, R_0, F_0\n",
    "    while time < end:\n",
    "        Rb = k1*R\n",
    "        Rd = k2*R*F\n",
    "        Fb = k3*R*F\n",
    "        Fd = k4*F\n",
    "        Rcum = Rb + Rd + Fb + Fd\n",
    "        u = random.uniform(0,1)\n",
    "        if Rb > u * Rcum:\n",
    "            R = R + 1\n",
    "        elif Rd + Rb > u * Rcum >= Rb:\n",
    "            R = R - 1\n",
    "        elif Fb + Rd + Rb > u * Rcum >= Rd + Rb:\n",
    "            F = F + 1\n",
    "        else:\n",
    "            F = F - 1\n",
    "        \n",
    "        u = random.uniform(0,1)\n",
    "        delta_t = 1/Rcum * np.log(1/u)\n",
    "        time_new = time + delta_t\n",
    "        solution_KMC = np.append(solution_KMC,[[time_new,R,F]],axis=0)\n",
    "        \n",
    "        if F==0:\n",
    "            break\n",
    "        time = time_new\n",
    "    return solution_KMC"
   ]
  },
  {
   "cell_type": "code",
   "execution_count": null,
   "metadata": {
    "collapsed": false
   },
   "outputs": [],
   "source": [
    "solution = solve_by_KMC(R_0,F_0,end)\n",
    "timeKMC = solution[:,0]\n",
    "R_KMC = solution[:,1]\n",
    "F_KMC = solution[:,2]\n",
    "\n",
    "plt.plot(timeKMC, R_KMC, label='Rabbits')\n",
    "plt.plot(timeKMC, F_KMC, label='Foxes')\n",
    "#plt.xlim(17.8,18)\n",
    "#plt.ylim(310,320)\n",
    "plt.legend(loc='best')\n",
    "plt.show()"
   ]
  },
  {
   "cell_type": "code",
   "execution_count": null,
   "metadata": {
    "collapsed": true
   },
   "outputs": [],
   "source": [
    "def peak_KMC(solution): # NOT WORKING\n",
    "    '''R = R_0\n",
    "    F = F_0\n",
    "    time = 0\n",
    "    solution = np.zeros((1,3))\n",
    "    solution[0] = 0, R_0, F_0\n",
    "    while time < end:\n",
    "        Rb = k1*R\n",
    "        Rd = k2*R*F\n",
    "        Fb = k3*R*F\n",
    "        Fd = k4*F\n",
    "        Rcum = Rb + Rd + Fb + Fd\n",
    "        u = random.uniform(0,1)\n",
    "        if Rb > u * Rcum:\n",
    "            R = R + 1\n",
    "        elif Rd > u * Rcum:\n",
    "            R = R - 1\n",
    "        elif Fb > u * Rcum:\n",
    "            F = F + 1\n",
    "        elif Fd > u * Rcum:\n",
    "            F = F - 1\n",
    "        \n",
    "        u = random.uniform(0,1)\n",
    "        delta_t = 1/Rcum * np.log(1/u)\n",
    "        time_new = time + delta_t\n",
    "        solution = np.append(solution,[[time_new,R,F]],axis=0)\n",
    "        \n",
    "        if F==0:\n",
    "            break\n",
    "        time = time_new'''\n",
    "    for i in solution[:,1]:\n",
    "        if i > 100:\n",
    "            \n",
    "            peak_rabbit = argrelextrema(solution[:,1],np.greater)\n",
    "    \n",
    "    #peak_fox = argrelextrema(solution[:,2],np.greater,order=20)\n",
    "    #avgfox = round(np.mean(solution[peak_fox[0],2]),0)\n",
    "    avgrabbit = round(np.mean(solution[peak_rabbit[0],1]),0)\n",
    "    \n",
    "    return avgrabbit"
   ]
  },
  {
   "cell_type": "code",
   "execution_count": null,
   "metadata": {
    "collapsed": false
   },
   "outputs": [],
   "source": [
    "#a = peak_KMC(solution)"
   ]
  },
  {
   "cell_type": "code",
   "execution_count": null,
   "metadata": {
    "collapsed": false
   },
   "outputs": [],
   "source": [
    "'''Peak selection adopted from Greg Zaylor's notebook - thank you Greg'''\n",
    "#create counter for number of times foxes/rabbits die out:\n",
    "zeropopulation=0\n",
    "#create list to store values at peaks for foxes and times:\n",
    "foxes = [[0,0],[0,0]]\n",
    "#define number of iterations\n",
    "Trials = 10000\n",
    "for i in range(Trials):\n",
    "    #run the KMC\n",
    "    solution_exp = solve_by_KMC(R_0,F_0,end)\n",
    "    #plot all values on the same graph\n",
    "    time_exp = solution_exp[:,0]\n",
    "    R_exp = solution_exp[:,1]\n",
    "    F_exp = solution_exp[:,2]\n",
    "    plt.plot(time_exp,R_exp,'b')\n",
    "    plt.plot(time_exp,F_exp,'g-')\n",
    "\n",
    "    xlim=11000\n",
    "    #set first 12000 values of foxes list to 0\n",
    "    F_exp[:xlim] = [0] * xlim\n",
    "    #find 2nd peak of foxes\n",
    "    c=max(F_exp)\n",
    "\n",
    "    #if 2nd peak exists, add number of foxes and time it occurs to storage list. only return first peak if peak repeats itself\n",
    "    if c>1200:\n",
    "        for position, item in enumerate(F_exp):\n",
    "            if item == c:\n",
    "                foxes[1].append(c)\n",
    "                foxes[0].append(time_exp[position])\n",
    "                break\n",
    "    #if 2nd peak doesn't exist, add to the counter for number of times foxes die\n",
    "    else:\n",
    "        zeropopulation = zeropopulation + 1\n"
   ]
  },
  {
   "cell_type": "code",
   "execution_count": null,
   "metadata": {
    "collapsed": false
   },
   "outputs": [],
   "source": [
    "print(\"The average of the 2nd peak is\", round(sum(foxes[1])/float((len(foxes[1])-1))), \"foxes, which occurs at \", round(sum(foxes[0])/float((len(foxes[0])-1))), \"days.\")\n",
    "print(\"The probability that no 2nd peak forms (and all the foxes die out before 600 days) is \",100*zeropopulation/Trials,\"%\")"
   ]
  },
  {
   "cell_type": "code",
   "execution_count": null,
   "metadata": {
    "collapsed": false
   },
   "outputs": [],
   "source": [
    "time_75, time_25 = np.percentile(foxes[0], [75 ,25])\n",
    "fox_75, fox_25 = np.percentile(foxes[1], [75 ,25])\n",
    "print(\"The IQR of foxes is\", round(fox_25), \"to\", round(fox_75))\n",
    "print(\"The IQR of times is\", round(time_25), \"to\", round(time_75))"
   ]
  },
  {
   "cell_type": "code",
   "execution_count": null,
   "metadata": {
    "collapsed": true
   },
   "outputs": [],
   "source": []
  }
 ],
 "metadata": {
  "anaconda-cloud": {},
  "kernelspec": {
   "display_name": "Python [Root]",
   "language": "python",
   "name": "Python [Root]"
  },
  "language_info": {
   "codemirror_mode": {
    "name": "ipython",
    "version": 3
   },
   "file_extension": ".py",
   "mimetype": "text/x-python",
   "name": "python",
   "nbconvert_exporter": "python",
   "pygments_lexer": "ipython3",
   "version": "3.5.2"
  }
 },
 "nbformat": 4,
 "nbformat_minor": 1
}
